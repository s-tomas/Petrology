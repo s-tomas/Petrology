{
 "cells": [
  {
   "cell_type": "code",
   "execution_count": 12,
   "metadata": {},
   "outputs": [
    {
     "name": "stdout",
     "output_type": "stream",
     "text": [
      "         SAMPLE Mineral_Type\n",
      "0   1717B1 L1.1          Bio\n",
      "1   1717B1 L1.2          Bio\n",
      "2   1717B1 L1.3          Opx\n",
      "3   1717B1 L1.4          Opx\n",
      "4   1717B1 L1.5          Opx\n",
      "5   1717B1 L1.6          Bio\n",
      "6   1717B1 L2.1          Bio\n",
      "7   1717B1 L2.2          Opx\n",
      "8   1717B1 L2.3          Opx\n",
      "9   1717B1 L2.4          Bio\n",
      "10  1717B1 L2.5          Bio\n",
      "11  1717B1 L3.1          Bio\n",
      "12  1717B1 L3.2          Bio\n",
      "13  1717B1 L3.3          Bio\n",
      "14  1717B1 L3.4          Opx\n",
      "15  1717B1 L3.5          Bio\n",
      "16  1717B1 L3.6          Opx\n"
     ]
    }
   ],
   "source": [
    "import pandas as pd\n",
    "\n",
    "def classify_mineral(row):\n",
    "    mineral_types = []\n",
    "    \n",
    "    if 41 < row['SiO2'] < 49 and 12 < row['MgO'] < 17 and 9 < row['FeO'] < 14 and row['Na2O'] < 3 and 10 < row['CaO'] < 12 and 6 < row['Al2O3'] < 13 and row['TOTAL'] < 100 and row['TiO2'] > 1:\n",
    "        mineral_types.append('Amph')\n",
    "    if 51 < row['SiO2'] and 14 < row['MgO'] < 17 and row['FeO'] < 9 and row['Al2O3'] > 1 and row['CaO'] > 21:\n",
    "        mineral_types.append('Cpx')\n",
    "    if 52 < row['SiO2'] < 57 and 22 < row['MgO'] < 30 and 10 < row['FeO'] < 19 and row['Al2O3'] < 2 and row['CaO'] < 1:\n",
    "        mineral_types.append('Opx')\n",
    "    if row['SiO2'] > 47 and row['Al2O3'] > 20 and row['Na2O'] > 2 and row['CaO'] > 6:\n",
    "        mineral_types.append('Plagioclase')\n",
    "    if row['MgO'] > 40:\n",
    "        mineral_types.append('Olv')\n",
    "    if 36 < row['SiO2'] < 41 and 7 < row['Al2O3'] < 17 and 16 < row['MgO'] and 7 < row['K2O'] and row['FeO'] < 13:\n",
    "        mineral_types.append('Bio')\n",
    "    return ', '.join(mineral_types) if mineral_types else 'Review'\n",
    "\n",
    "file_path = '/Users/tomassalazar/Desktop/Work/Krawcyzski Group/ESPM.Code/Petrology/Kamchatka/EPMA S.2 Analyses/EPMA RAW DATA.2/Tomas Salazar 7-22-2024 samples.xlsx'\n",
    "sheet_name = '1717B1'\n",
    "\n",
    "try:\n",
    "    data = pd.read_excel(file_path, sheet_name=sheet_name)\n",
    "except Exception as e:\n",
    "    print(f\"Error reading the Excel file: {e}\")\n",
    "    raise\n",
    "\n",
    "data.columns = data.columns.str.strip()\n",
    "\n",
    "data['Mineral_Type'] = data.apply(classify_mineral, axis=1)\n",
    "\n",
    "print(data[['SAMPLE', 'Mineral_Type']])\n"
   ]
  },
  {
   "cell_type": "code",
   "execution_count": 1,
   "metadata": {},
   "outputs": [
    {
     "name": "stdout",
     "output_type": "stream",
     "text": [
      "CSV file saved to: /Users/tomassalazar/Desktop/Work/Krawcyzski Group/ESPM.Code/Petrology/Kamchatka/EPMA S.2 Analyses/EPMA RAW DATA.2/7550 amphibole_formula_numbers_per_sample.csv\n"
     ]
    }
   ],
   "source": [
    "import pandas as pd\n",
    "import numpy as np\n",
    "import os\n",
    "file_path = '/Users/tomassalazar/Desktop/Work/Krawcyzski Group/ESPM.Code/Petrology/Kamchatka/EPMA S.2 Analyses/EPMA RAW DATA.2/Tomas Salazar 7-22-2024 samples.xlsx'\n",
    "sheet_name = '7550'\n",
    "\n",
    "oxide_columns = ['Na2O', 'K2O', 'CaO', 'MnO', 'Al2O3', 'FeO', 'MgO', 'TiO2', 'SiO2', 'Cl', 'F', 'O']\n",
    "site_columns = ['Na', 'K', 'Ca', 'Mn', 'Al', 'Fe', 'Mg', 'Ti', 'Si', 'Cl', 'F', 'O']\n",
    "\n",
    "molecular_weights = {\n",
    "    'Na2O': 61.978, \n",
    "    'K2O': 94.196,  \n",
    "    'CaO': 56.077,   \n",
    "    'MnO': 70.937,   \n",
    "    'Al2O3': 101.961, \n",
    "    'FeO': 71.844,   \n",
    "    'MgO': 40.304,   \n",
    "    'TiO2': 79.866,  \n",
    "    'SiO2': 60.084,  \n",
    "    'Cl': 35.453,    \n",
    "    'F': 18.998,     \n",
    "    'O': 15.999      \n",
    "}\n",
    "\n",
    "number_oxygens = np.array([1, 1, 1, 1, 3, 1, 1, 2, 2, 1, 1, 1])  # Na2O, K2O, CaO, MnO, Al2O3, FeO, MgO, TiO2, SiO2, Cl, F, O\n",
    "\n",
    "try:\n",
    "    data = pd.read_excel(file_path, sheet_name=sheet_name, usecols=oxide_columns)\n",
    "except Exception as e:\n",
    "    print(f\"Error reading the Excel file: {e}\")\n",
    "    raise\n",
    "\n",
    "data.columns = data.columns.str.strip()\n",
    "\n",
    "sample_ids = data.index + 1 \n",
    "results = []\n",
    "for index, row in data.iterrows():\n",
    "    weight_percent_oxides = row[oxide_columns].values\n",
    "    \n",
    "    molecular_proportion_oxides = np.array([weight_percent_oxides[i] / molecular_weights[oxide] for i, oxide in enumerate(oxide_columns)])\n",
    "    \n",
    "    oxygen_atomic_proportion = molecular_proportion_oxides * number_oxygens\n",
    "    \n",
    "    sum_oxy_ato_prop = np.sum(oxygen_atomic_proportion)\n",
    "    \n",
    "    normalization_factor = 22 / sum_oxy_ato_prop\n",
    "    \n",
    "    number_anions = oxygen_atomic_proportion * normalization_factor\n",
    "    number_oxygen_per_cation = np.array([1, 1, 1, 1, 3, 1, 1, 2, 2, 1, 1, 1])\n",
    "    \n",
    "    cations = number_anions / number_oxygen_per_cation\n",
    "    results.append(cations)\n",
    "    \n",
    "results_df = pd.DataFrame(results, columns=site_columns)\n",
    "results_df.insert(0, 'Sample ID', sample_ids)\n",
    "csv_path = os.path.join(os.path.dirname(file_path), '7550 amphibole_formula_numbers_per_sample.csv')\n",
    "results_df.to_csv(csv_path, index=False)\n",
    "\n",
    "print(f\"CSV file saved to: {csv_path}\")\n"
   ]
  }
 ],
 "metadata": {
  "kernelspec": {
   "display_name": "base",
   "language": "python",
   "name": "python3"
  },
  "language_info": {
   "codemirror_mode": {
    "name": "ipython",
    "version": 3
   },
   "file_extension": ".py",
   "mimetype": "text/x-python",
   "name": "python",
   "nbconvert_exporter": "python",
   "pygments_lexer": "ipython3",
   "version": "3.10.12"
  }
 },
 "nbformat": 4,
 "nbformat_minor": 2
}
