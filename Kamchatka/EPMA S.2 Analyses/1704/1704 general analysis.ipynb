{
 "cells": [
  {
   "cell_type": "code",
   "execution_count": 1,
   "metadata": {},
   "outputs": [
    {
     "name": "stdout",
     "output_type": "stream",
     "text": [
      "           SAMPLE Mineral_Type\n",
      "0      1704B L1.1         Amph\n",
      "1      1704B L1.2         Amph\n",
      "2      1704B L1.3         Amph\n",
      "3      1704B L1.4         Amph\n",
      "4      1704B L1.5         Amph\n",
      "5      1704B L1.6         Amph\n",
      "6      1704B L2.1         Amph\n",
      "7      1704B L2.2         Amph\n",
      "8      1704B L2.3         Amph\n",
      "9      1704B L2.4         Amph\n",
      "10     1704B L2.5         Amph\n",
      "11  1704B GM L3.1         Amph\n",
      "12  1704B GM L3.2         Amph\n",
      "13  1704B GM L3.3         Amph\n",
      "14  1704B GM L3.4         Amph\n",
      "15  1704B GM L3.5         Amph\n",
      "16  1704B GM L3.6         Amph\n",
      "17  1704B GM L3.7         Amph\n",
      "18     1704B L4.1         Amph\n",
      "19     1704B L4.2       Review\n",
      "20     1704B L4.3         Amph\n",
      "21     1704B L4.4         Amph\n",
      "22     1704B L4.5         Amph\n",
      "23     1704B L4.6         Amph\n",
      "24     1704B L4.7         Amph\n",
      "25     1704B L4.8       Review\n"
     ]
    }
   ],
   "source": [
    "import pandas as pd\n",
    "\n",
    "def classify_mineral(row):\n",
    "    mineral_types = []\n",
    "    \n",
    "    if 41 < row['SiO2'] < 49 and 12 < row['MgO'] < 17 and 9 < row['FeO'] < 14 and row['Na2O'] < 3 and 10 < row['CaO'] < 12 and 6 < row['Al2O3'] < 13 and row['TOTAL'] < 100 and row['TiO2'] > 1:\n",
    "        mineral_types.append('Amph')\n",
    "    if 51 < row['SiO2'] and 14 < row['MgO'] < 17 and row['FeO'] < 9 and row['Al2O3'] > 1 and row['CaO'] > 21:\n",
    "        mineral_types.append('Cpx')\n",
    "    if 52 < row['SiO2'] < 57 and 22 < row['MgO'] < 30 and 10 < row['FeO'] < 19 and row['Al2O3'] < 2 and row['CaO'] > 20:\n",
    "        mineral_types.append('Opx')\n",
    "    if row['SiO2'] > 47 and row['Al2O3'] > 20 and row['Na2O'] > 2 and row['CaO'] > 6:\n",
    "        mineral_types.append('Plagioclase')\n",
    "    if row['MgO'] > 40:\n",
    "        mineral_types.append('Olv')\n",
    "    return ', '.join(mineral_types) if mineral_types else 'Review'\n",
    "\n",
    "file_path = '/Users/tomassalazar/Desktop/Work/Krawcyzski Group/ESPM.Code/Petrology/Kamchatka/EPMA S.2 Analyses/EPMA RAW DATA.2/Tomas Salazar 7-22-2024 samples.xlsx'\n",
    "sheet_name = '1704'\n",
    "\n",
    "try:\n",
    "    data = pd.read_excel(file_path, sheet_name=sheet_name)\n",
    "except Exception as e:\n",
    "    print(f\"Error reading the Excel file: {e}\")\n",
    "    raise\n",
    "\n",
    "data.columns = data.columns.str.strip()\n",
    "\n",
    "data['Mineral_Type'] = data.apply(classify_mineral, axis=1)\n",
    "\n",
    "print(data[['SAMPLE', 'Mineral_Type']])\n"
   ]
  },
  {
   "cell_type": "markdown",
   "metadata": {},
   "source": [
    "doing a contour map of all the elemental changes around the amph or the sites where the samples were collected."
   ]
  }
 ],
 "metadata": {
  "kernelspec": {
   "display_name": "Python 3",
   "language": "python",
   "name": "python3"
  },
  "language_info": {
   "codemirror_mode": {
    "name": "ipython",
    "version": 3
   },
   "file_extension": ".py",
   "mimetype": "text/x-python",
   "name": "python",
   "nbconvert_exporter": "python",
   "pygments_lexer": "ipython3",
   "version": "3.10.12"
  }
 },
 "nbformat": 4,
 "nbformat_minor": 2
}
