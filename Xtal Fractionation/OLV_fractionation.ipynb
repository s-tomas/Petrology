{
 "cells": [
  {
   "cell_type": "code",
   "execution_count": null,
   "metadata": {},
   "outputs": [],
   "source": [
    "import pandas as pd\n",
    "import numpy as np\n",
    "\n",
    "C_olv_mol_wt = np.array([60.084, 79.866, 101.961, 71.846, 70.9374, 40.304, 56.079, 61.979, 94.2, 283.889])\n",
    "\n",
    "data = pd.read_csv('Mafic Enclave Major Element data Mt. Shasta.csv')\n",
    "\n",
    "data.columns = data.columns.str.strip()\n",
    "\n",
    "data = data.drop(columns=['SAMPLE', 'Sum'])\n",
    "\n",
    "for sample_name, row in data.iterrows():\n",
    "    C_og_initial = np.array([\n",
    "        row['SiO2'], row['TiO2'], row['Al2O3'], row['FeO*'], row['MnO'],\n",
    "        row['MgO'], row['CaO'], row['Na2O'], row['K2O'], row['P2O5']\n",
    "    ])\n",
    "\n",
    "    C_og_initial = np.nan_to_num(C_og_initial)\n",
    "\n",
    "    C_s = (C_og_initial * C_olv_mol_wt) / ((np.sum(C_olv_mol_wt) + np.sum(C_og_initial)) * 100)\n",
    "    Fo_n = 0\n",
    "    iterations = 0\n",
    "\n",
    "    while Fo_n < 90:\n",
    "        iterations += 1\n",
    "        X_olv_melt = 1 / (((0.32 * (C_s[3] / C_s[5])) + 1) * (3 / 2))\n",
    "        Fo_n = (3 / 2) * 100 * X_olv_melt\n",
    "        X_SiO2 = 1.0 / 3.0\n",
    "        X_MgO = (Fo_n / 100) * (2.0 / 3.0)\n",
    "        X_FeO = (2.0 / 3.0) - X_MgO\n",
    "        C_olv_new = np.array([X_SiO2, 0, 0, X_FeO, 0, X_MgO, 0, 0, 0, 0])\n",
    "        C_prenorm = (C_olv_new * 0.01) + (C_s * 0.99)\n",
    "        C_norm = C_prenorm / np.sum(C_prenorm)\n",
    "        C_s = (C_og_initial * C_norm) / (100 * (np.sum(C_norm) + np.sum(C_og_initial)))\n",
    "\n",
    "    print(f\"Sample {sample_name}: Final Fo_num reached {Fo_n} after {iterations} iterations. Final Formula: {C_s}\")\n"
   ]
  }
 ],
 "metadata": {
  "language_info": {
   "name": "python"
  }
 },
 "nbformat": 4,
 "nbformat_minor": 2
}
