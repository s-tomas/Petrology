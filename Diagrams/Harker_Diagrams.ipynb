{
 "cells": [
  {
   "cell_type": "code",
   "execution_count": null,
   "metadata": {},
   "outputs": [],
   "source": [
    "import numpy as np\n",
    "import matplotlib.pyplot as plt\n",
    "from scipy import stats\n",
    "\n",
    "SiO2 = np.array([48.05, 48.43, 47.92, 48.21, 49.16, 49.20, 49.71, 50.10, 50.37, 50.56, 50.74, 50.85, 50.92, 51.24, 53.42, 40.01])\n",
    "TiO2 = np.array([2.04, 2.00, 2.16, 2.24, 2.29, 2.57, 2.68, 2.71, 3.09, 3.16, 3.35, 3.36, 3.61, 3.74, 3.36, 0.04])\n",
    "Al2O3 = np.array([10.33, 10.70, 10.75, 11.37, 13.33, 12.77, 13.65, 13.78, 14.02, 13.92, 13.57, 14.02, 13.80, 13.60, 13.75, 1.13])\n",
    "Fe2O3 = np.array([1.34, 1.15, 1.08, 1.50, 1.31, 1.50, 1.19, 1.89, 1.80, 1.78, 1.36, 1.90, 1.85, 1.87, 1.96, 0.30])\n",
    "FeO = np.array([10.19, 10.08, 10.65, 10.18, 9.71, 10.05, 9.72, 9.46, 10.07, 10.18, 10.63, 10.44, 10.71, 11.19, 10.45, 12.33])\n",
    "MnO = np.array([0.17, 0.17, 0.18, 0.18, 0.16, 0.17, 0.17, 0.17, 0.17, 0.18, 0.18, 0.18, 0.19, 0.18, 0.18, 0.17])\n",
    "MgO = np.array([17.39, 16.29, 15.43, 13.94, 10.41, 10.00, 8.24, 7.34, 6.75, 6.33, 6.16, 5.68, 5.46, 5.12, 3.92, 44.77])\n",
    "CaO = np.array([8.14, 8.67, 9.33, 9.74, 10.93, 10.75, 11.59, 11.46, 10.39, 10.24, 9.94, 9.71, 9.45, 9.03, 7.75, 1.23])\n",
    "Na2O = np.array([1.66, 1.71, 1.79, 1.89, 2.15, 2.12, 2.26, 2.25, 2.35, 2.61, 2.69, 2.77, 2.80, 2.81, 3.34, 0.01])\n",
    "K2O = np.array([0.36, 0.35, 0.44, 0.44, 0.51, 0.51, 0.54, 0.57, 0.62, 0.64, 0.67, 0.74, 0.75, 0.83, 1.10, 0.00])\n",
    "P2O5 = np.array([0.19, 0.18, 0.23, 0.22, 0.16, 0.25, 0.25, 0.27, 0.32, 0.33, 0.37, 0.38, 0.40, 0.41, 0.59, 0.00])\n",
    "\n",
    "elements = [TiO2, Al2O3, Fe2O3, FeO, MnO, MgO, CaO, Na2O, K2O, P2O5]\n",
    "element_names = ['TiO2', 'Al2O3', 'Fe2O3', 'FeO', 'MnO', 'MgO', 'CaO', 'Na2O', 'K2O', 'P2O5']\n",
    "\n",
    "fig, axs = plt.subplots(len(elements) // 2, 2, figsize=(12, 20))\n",
    "\n",
    "for i, (element, name) in enumerate(zip(elements, element_names)):\n",
    "    row = i // 2\n",
    "    col = i % 2\n",
    "    colors = np.random.rand(len(SiO2))  \n",
    "    slope, intercept, _, _, _ = stats.linregress(SiO2, element)\n",
    "    scatter = axs[row, col].scatter(SiO2, element, c=colors, cmap='viridis', label='Data Points')\n",
    "    axs[row, col].plot(SiO2, slope * SiO2 + intercept, color='red', label=f'Slope: {slope:.2f}')\n",
    "    axs[row, col].legend()\n",
    "\n",
    "    legend1 = axs[row, col].legend(*scatter.legend_elements(), title='Colors', loc='upper right')\n",
    "    axs[row, col].add_artist(legend1)\n",
    "\n",
    "    axs[row, col].set_title(f'{name} vs. SiO2')\n",
    "    axs[row, col].set_xlabel('SiO2 (%)')\n",
    "    axs[row, col].set_ylabel(f'{name} (%)')\n",
    "    axs[row, col].grid(True)\n",
    "\n",
    "    for j, txt in enumerate(range(len(SiO2)), start=1):\n",
    "        axs[row, col].annotate(txt, (SiO2[j - 1], element[j - 1]), fontsize=10, ha='right', va='top', color='black')\n",
    "\n",
    "plt.tight_layout()\n",
    "plt.show()\n"
   ]
  }
 ],
 "metadata": {
  "kernelspec": {
   "display_name": "base",
   "language": "python",
   "name": "python3"
  },
  "language_info": {
   "name": "python",
   "version": "3.10.12"
  }
 },
 "nbformat": 4,
 "nbformat_minor": 2
}
