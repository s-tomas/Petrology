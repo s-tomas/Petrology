{
 "cells": [
  {
   "cell_type": "code",
   "execution_count": null,
   "metadata": {},
   "outputs": [],
   "source": [
    "import numpy as np\n",
    "import matplotlib.pyplot as plt\n",
    "\n",
    "R = 0.0831446261815324\n",
    "T_celsius = 600\n",
    "T = T_celsius + 273.15\n",
    "P = 2000\n",
    "W_1 = 7973.1 + 0.11 * P - 6.48 * T\n",
    "W_2 = 7490.9 + 0.11 * P - 2.17 * T\n",
    "\n",
    "X = np.linspace(0.001, 0.999, 50)  \n",
    "\n",
    "G_sol = 1 + ((R*T)*(X*np.log(X) + (1 - X)*np.log(1-X))) + W_1*(X - X**2)\n",
    "plt.plot(X, G_sol)\n",
    "plt.xlabel('X')\n",
    "plt.ylabel('Gibbs Free Energy of Solution')\n",
    "plt.title('Gibbs Diagram')\n",
    "plt.grid(True)\n",
    "plt.show()"
   ]
  }
 ],
 "metadata": {
  "language_info": {
   "name": "python"
  }
 },
 "nbformat": 4,
 "nbformat_minor": 2
}
